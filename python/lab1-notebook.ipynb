{
 "cells": [
  {
   "cell_type": "markdown",
   "metadata": {},
   "source": [
    "# edas 003 - lab 1 - python"
   ]
  },
  {
   "cell_type": "code",
   "execution_count": null,
   "metadata": {},
   "outputs": [],
   "source": [
    "import pandas as pd\n",
    "import numpy as np\n",
    "import matplotlib.pyplot as plt\n",
    "\n",
    "from matplotlib import style\n",
    "style.use('dark_background')\n",
    "\n",
    "data = pd.read_csv(\"./ArquivosLaboratorio/Arquivo_Treino.csv\", delimiter=';')\n",
    "data.describe()\n",
    "data.count()"
   ]
  },
  {
   "cell_type": "code",
   "execution_count": null,
   "metadata": {},
   "outputs": [],
   "source": [
    "data.head(10)"
   ]
  },
  {
   "cell_type": "code",
   "execution_count": null,
   "metadata": {},
   "outputs": [],
   "source": [
    "\n",
    "credit_approved = data[\"Loan_Status\"].value_counts().plot(kind='bar', title='Frequencia - Crédito Aprovado / Negado')"
   ]
  },
  {
   "cell_type": "code",
   "execution_count": null,
   "metadata": {},
   "outputs": [],
   "source": [
    "credit_approved = data[\"Loan_Status\"] == \"Y\" \n",
    "data[credit_approved].describe()"
   ]
  },
  {
   "cell_type": "code",
   "execution_count": null,
   "metadata": {},
   "outputs": [],
   "source": [
    "data['ApplicantIncome'].hist(bins=50, figsize=(6,6))"
   ]
  },
  {
   "cell_type": "code",
   "execution_count": null,
   "metadata": {},
   "outputs": [],
   "source": [
    "data.boxplot(column='ApplicantIncome', figsize=(8,8))"
   ]
  },
  {
   "cell_type": "code",
   "execution_count": null,
   "metadata": {},
   "outputs": [],
   "source": [
    "data.boxplot(column='ApplicantIncome', figsize=(7,7), by='Education')"
   ]
  },
  {
   "cell_type": "code",
   "execution_count": null,
   "metadata": {},
   "outputs": [],
   "source": [
    "data['LoanAmount'].hist(bins=50, figsize=(8,8))"
   ]
  },
  {
   "cell_type": "code",
   "execution_count": null,
   "metadata": {},
   "outputs": [],
   "source": [
    "temp1 = data['Credit_History'].value_counts(ascending=True)\n",
    "temp2 = data.pivot_table(values='Loan_Status',index=['Credit_History'],aggfunc=lambda x: x.map({'Y':1,'N':0}).mean())\n",
    "print('Frequency Table for Credit History:')\n",
    "print(temp1)\n",
    "print(temp1[0])\n",
    "print(temp1[1])\n",
    "print(temp1.index[0])\n",
    "\n",
    "print('\\nProbability of getting loan for each Credit History class:')\n",
    "print(temp2)"
   ]
  },
  {
   "cell_type": "code",
   "execution_count": null,
   "metadata": {},
   "outputs": [],
   "source": [
    "\n",
    "\n",
    "from pylab import rcParams\n",
    "rcParams['figure.figsize'] = 10, 6\n",
    "\n",
    "fig, (ax1, ax2) = plt.subplots(ncols=2, nrows=1)\n",
    "\n",
    "ax1.set_xlabel('Histórico de Crédito')\n",
    "ax1.set_ylabel('Contagem de Clientes')\n",
    "ax1.set_title('Clientes por Histórico')\n",
    "\n",
    "temp2.plot(kind='bar', ax=ax1)\n",
    "\n",
    "ax2.set_xlabel('Histórico de Crédito')\n",
    "ax2.set_ylabel('Probabilidade de Empréstimo')\n",
    "ax2.set_title('Probabilidade de Empréstimo por Histórico')\n",
    "\n",
    "temp2.plot(kind='bar', ax=ax2)"
   ]
  },
  {
   "cell_type": "code",
   "execution_count": null,
   "metadata": {},
   "outputs": [],
   "source": [
    "temp3 = pd.crosstab(data['Credit_History'],\n",
    "data['Loan_Status'])\n",
    "temp3.plot(kind='bar', stacked=True, color=['red','blue'],\n",
    "grid=False)"
   ]
  },
  {
   "cell_type": "code",
   "execution_count": null,
   "metadata": {},
   "outputs": [],
   "source": [
    "temp3 = pd.pivot_table(data, index=['Credit_History','Gender'], columns='Loan_Status', aggfunc='count')\n",
    "temp3['Loan_ID'].plot(kind='bar', stacked=True, color=['red', 'blue'], grid=False)"
   ]
  },
  {
   "cell_type": "code",
   "execution_count": null,
   "metadata": {},
   "outputs": [],
   "source": [
    "data.apply(lambda x: sum(x.isnull()),axis=0)"
   ]
  },
  {
   "cell_type": "code",
   "execution_count": null,
   "metadata": {},
   "outputs": [],
   "source": [
    "data.boxplot(column='LoanAmount')"
   ]
  },
  {
   "cell_type": "code",
   "execution_count": null,
   "metadata": {},
   "outputs": [],
   "source": [
    "data.boxplot(column='LoanAmount', by=['Education','Self_Employed'])"
   ]
  },
  {
   "cell_type": "code",
   "execution_count": null,
   "metadata": {},
   "outputs": [],
   "source": [
    "data['Self_Employed'].value_counts()"
   ]
  },
  {
   "cell_type": "code",
   "execution_count": null,
   "metadata": {},
   "outputs": [],
   "source": [
    "table = data.pivot_table(values='LoanAmount', index='Self_Employed', columns='Education', aggfunc=np.median)\n",
    "table"
   ]
  },
  {
   "cell_type": "code",
   "execution_count": null,
   "metadata": {},
   "outputs": [],
   "source": [
    "data['Self_Employed'].fillna('No',inplace=True)\n"
   ]
  },
  {
   "cell_type": "code",
   "execution_count": null,
   "metadata": {},
   "outputs": [],
   "source": [
    "# Define a função que retorna o valor da tabela pivot\n",
    "def fage(x):\n",
    " return table.loc[x['Self_Employed'], x['Education']] \n",
    "\n",
    "data['LoanAmount'].fillna(data[data['LoanAmount'].isnull()].apply(fage, axis=1), inplace=True)\n",
    "\n"
   ]
  },
  {
   "cell_type": "code",
   "execution_count": null,
   "metadata": {},
   "outputs": [],
   "source": [
    "data.apply(lambda x: sum(x.isnull()),axis=0)"
   ]
  },
  {
   "cell_type": "code",
   "execution_count": null,
   "metadata": {},
   "outputs": [],
   "source": [
    "data['LoanAmount'].hist(bins=20)\n"
   ]
  },
  {
   "cell_type": "code",
   "execution_count": null,
   "metadata": {},
   "outputs": [],
   "source": [
    "data['LoanAmount_log'] = np.log(data['LoanAmount'])\n",
    "data['LoanAmount_log'].hist(bins=20)"
   ]
  },
  {
   "cell_type": "code",
   "execution_count": null,
   "metadata": {},
   "outputs": [],
   "source": [
    "data['TotalIncome'] = data['ApplicantIncome'] + data['CoapplicantIncome']\n",
    "data['TotalIncome_log'] = np.log(data['TotalIncome'])\n",
    "data['TotalIncome_log'].hist(bins=20)\n"
   ]
  },
  {
   "cell_type": "code",
   "execution_count": null,
   "metadata": {},
   "outputs": [],
   "source": [
    "data['ApplicantIncome'].hist(bins=20)   "
   ]
  },
  {
   "cell_type": "code",
   "execution_count": null,
   "metadata": {},
   "outputs": [],
   "source": [
    "data['TotalIncome'] = data['ApplicantIncome'] + data['CoapplicantIncome']\n",
    "data['TotalIncome_log'] = np.log(data['TotalIncome'])\n",
    "data['TotalIncome_log'].hist(bins=20)\n"
   ]
  },
  {
   "cell_type": "code",
   "execution_count": null,
   "metadata": {},
   "outputs": [],
   "source": [
    "from sklearn.preprocessing import LabelEncoder\n",
    "\n",
    "data['Gender'].fillna(data['Gender'].mode()[0], inplace=True)\n",
    "data['Married'].fillna(data['Married'].mode()[0], inplace=True)\n",
    "data['Dependents'].fillna(data['Dependents'].mode()[0],inplace=True)\n",
    "data['Loan_Amount_Term'].fillna(data['Loan_Amount_Term'].mode()[0], inplace=True)\n",
    "data['Credit_History'].fillna(data['Credit_History'].mode()[0],inplace=True)\n",
    "\n",
    "var_mod =['Gender','Married','Dependents','Education','Self_Employed','Property_Area','Loan_Status']\n",
    "\n",
    "le = LabelEncoder()\n",
    "\n",
    "for i in var_mod: \n",
    "    data[i] = le.fit_transform(data[i])\n",
    "\n",
    "data.dtypes\n",
    "\n"
   ]
  },
  {
   "cell_type": "code",
   "execution_count": null,
   "metadata": {},
   "outputs": [],
   "source": [
    "data.apply(lambda x: sum(x.isnull()))"
   ]
  },
  {
   "cell_type": "code",
   "execution_count": 30,
   "metadata": {},
   "outputs": [],
   "source": [
    "#Importa os modelos da biblioteca scikit learn:\n",
    "from sklearn.linear_model import LogisticRegression\n",
    "from sklearn.model_selection import KFold\n",
    "from sklearn.ensemble import RandomForestClassifier\n",
    "from sklearn.tree import DecisionTreeClassifier, export_graphviz\n",
    "from sklearn import metrics\n",
    "\n",
    "#Função para fazer um modelo de classificação para avaliar performance\n",
    "\n",
    "def classification_model(model, data, predictors, outcome):\n",
    "  #Ajusta o modelo:\n",
    "  model.fit(data[predictors],data[outcome])\n",
    "  #Faz previsões nos dados de treino:\n",
    "  predictions = model.predict(data[predictors])\n",
    "  #Mostra a acurácia\n",
    "  accuracy = metrics.accuracy_score(predictions,data[outcome])\n",
    "  print(\"Acurácia : %s\" % \"{0:.3%}\".format(accuracy))\n",
    "  #Realiza validação cruzada k-fold com 5 folds\n",
    "  kf = KFold(5,shuffle=False)\n",
    "  error = []\n",
    "  \n",
    "  for train, test in kf.split(data):\n",
    "    # Filtra dados de treino\n",
    "    train_predictors = (data[predictors].iloc[train,:])\n",
    "    # O alvo que estamos usando para treinar o algoritmo\n",
    "    train_target =  data[outcome].iloc[train]\n",
    "    # Treinando o algoritmo com previsores e alvo\n",
    "    model.fit(train_predictors, train_target)\n",
    "    #Grava erros de cada loop de validação cruzada\n",
    "    error.append(model.score(data[predictors].iloc[test,:], data[outcome].iloc[test]))\n",
    "\n",
    "    print(\"Score da Validação Cruzada : %s\" %\"{0:.3%}\".format(np.mean(error)))\n",
    "  \n",
    "    #Acerta de novo o modelo para que possa se referir fora da função\n",
    "    model.fit(data[predictors],data[outcome])\n",
    "\n"
   ]
  },
  {
   "cell_type": "code",
   "execution_count": 32,
   "metadata": {},
   "outputs": [
    {
     "name": "stdout",
     "output_type": "stream",
     "text": [
      "Acurácia : 80.945%\n",
      "Score da Validação Cruzada : 80.488%\n",
      "Score da Validação Cruzada : 78.455%\n",
      "Score da Validação Cruzada : 79.133%\n",
      "Score da Validação Cruzada : 80.691%\n",
      "Score da Validação Cruzada : 80.946%\n"
     ]
    }
   ],
   "source": [
    "outcome_var = 'Loan_Status'\n",
    "model = LogisticRegression()\n",
    "predictor_var = ['Credit_History']\n",
    "classification_model(model, data, predictor_var,outcome_var)"
   ]
  },
  {
   "cell_type": "code",
   "execution_count": 33,
   "metadata": {},
   "outputs": [
    {
     "name": "stdout",
     "output_type": "stream",
     "text": [
      "Acurácia : 80.945%\n",
      "Score da Validação Cruzada : 80.488%\n",
      "Score da Validação Cruzada : 78.455%\n",
      "Score da Validação Cruzada : 79.133%\n",
      "Score da Validação Cruzada : 80.691%\n",
      "Score da Validação Cruzada : 80.946%\n"
     ]
    }
   ],
   "source": [
    "predictor_var = ['Credit_History','Education','Married','Self_Employed','Property_Area']\n",
    "classification_model(model, data, predictor_var, outcome_var)"
   ]
  },
  {
   "cell_type": "code",
   "execution_count": 35,
   "metadata": {},
   "outputs": [
    {
     "name": "stdout",
     "output_type": "stream",
     "text": [
      "Acurácia : 80.945%\n",
      "Score da Validação Cruzada : 80.488%\n",
      "Score da Validação Cruzada : 78.455%\n",
      "Score da Validação Cruzada : 79.133%\n",
      "Score da Validação Cruzada : 80.691%\n",
      "Score da Validação Cruzada : 80.946%\n"
     ]
    }
   ],
   "source": [
    "model = DecisionTreeClassifier()\n",
    "predictor_var = ['Credit_History','Gender','Married','Education']\n",
    "classification_model(model, data, predictor_var, outcome_var)"
   ]
  },
  {
   "cell_type": "code",
   "execution_count": 36,
   "metadata": {},
   "outputs": [
    {
     "name": "stdout",
     "output_type": "stream",
     "text": [
      "Acurácia : 81.270%\n",
      "Score da Validação Cruzada : 78.862%\n",
      "Score da Validação Cruzada : 76.829%\n",
      "Score da Validação Cruzada : 78.320%\n",
      "Score da Validação Cruzada : 80.081%\n",
      "Score da Validação Cruzada : 80.295%\n"
     ]
    }
   ],
   "source": [
    "#Podemos tentar diferentes combinações de variáveis:\n",
    "predictor_var = ['Credit_History','Loan_Amount_Term']\n",
    "classification_model(model, data, predictor_var, outcome_var)"
   ]
  },
  {
   "cell_type": "code",
   "execution_count": 38,
   "metadata": {},
   "outputs": [
    {
     "data": {
      "text/html": [
       "<div>\n",
       "<style scoped>\n",
       "    .dataframe tbody tr th:only-of-type {\n",
       "        vertical-align: middle;\n",
       "    }\n",
       "\n",
       "    .dataframe tbody tr th {\n",
       "        vertical-align: top;\n",
       "    }\n",
       "\n",
       "    .dataframe thead th {\n",
       "        text-align: right;\n",
       "    }\n",
       "</style>\n",
       "<table border=\"1\" class=\"dataframe\">\n",
       "  <thead>\n",
       "    <tr style=\"text-align: right;\">\n",
       "      <th></th>\n",
       "      <th>Loan_ID</th>\n",
       "      <th>Gender</th>\n",
       "      <th>Married</th>\n",
       "      <th>Dependents</th>\n",
       "      <th>Education</th>\n",
       "      <th>Self_Employed</th>\n",
       "      <th>ApplicantIncome</th>\n",
       "      <th>CoapplicantIncome</th>\n",
       "      <th>LoanAmount</th>\n",
       "      <th>Loan_Amount_Term</th>\n",
       "      <th>Credit_History</th>\n",
       "      <th>Property_Area</th>\n",
       "      <th>Loan_Status</th>\n",
       "      <th>LoanAmount_log</th>\n",
       "      <th>TotalIncome</th>\n",
       "      <th>TotalIncome_log</th>\n",
       "    </tr>\n",
       "  </thead>\n",
       "  <tbody>\n",
       "    <tr>\n",
       "      <th>0</th>\n",
       "      <td>LP001002</td>\n",
       "      <td>1</td>\n",
       "      <td>0</td>\n",
       "      <td>0</td>\n",
       "      <td>0</td>\n",
       "      <td>0</td>\n",
       "      <td>5849</td>\n",
       "      <td>0</td>\n",
       "      <td>130.0</td>\n",
       "      <td>360.0</td>\n",
       "      <td>1.0</td>\n",
       "      <td>2</td>\n",
       "      <td>1</td>\n",
       "      <td>4.867534</td>\n",
       "      <td>5849</td>\n",
       "      <td>8.674026</td>\n",
       "    </tr>\n",
       "    <tr>\n",
       "      <th>1</th>\n",
       "      <td>LP001003</td>\n",
       "      <td>1</td>\n",
       "      <td>1</td>\n",
       "      <td>1</td>\n",
       "      <td>0</td>\n",
       "      <td>0</td>\n",
       "      <td>4583</td>\n",
       "      <td>1508</td>\n",
       "      <td>128.0</td>\n",
       "      <td>360.0</td>\n",
       "      <td>1.0</td>\n",
       "      <td>0</td>\n",
       "      <td>0</td>\n",
       "      <td>4.852030</td>\n",
       "      <td>6091</td>\n",
       "      <td>8.714568</td>\n",
       "    </tr>\n",
       "    <tr>\n",
       "      <th>2</th>\n",
       "      <td>LP001005</td>\n",
       "      <td>1</td>\n",
       "      <td>1</td>\n",
       "      <td>0</td>\n",
       "      <td>0</td>\n",
       "      <td>1</td>\n",
       "      <td>3000</td>\n",
       "      <td>0</td>\n",
       "      <td>66.0</td>\n",
       "      <td>360.0</td>\n",
       "      <td>1.0</td>\n",
       "      <td>2</td>\n",
       "      <td>1</td>\n",
       "      <td>4.189655</td>\n",
       "      <td>3000</td>\n",
       "      <td>8.006368</td>\n",
       "    </tr>\n",
       "    <tr>\n",
       "      <th>3</th>\n",
       "      <td>LP001006</td>\n",
       "      <td>1</td>\n",
       "      <td>1</td>\n",
       "      <td>0</td>\n",
       "      <td>1</td>\n",
       "      <td>0</td>\n",
       "      <td>2583</td>\n",
       "      <td>2358</td>\n",
       "      <td>120.0</td>\n",
       "      <td>360.0</td>\n",
       "      <td>1.0</td>\n",
       "      <td>2</td>\n",
       "      <td>1</td>\n",
       "      <td>4.787492</td>\n",
       "      <td>4941</td>\n",
       "      <td>8.505323</td>\n",
       "    </tr>\n",
       "    <tr>\n",
       "      <th>4</th>\n",
       "      <td>LP001008</td>\n",
       "      <td>1</td>\n",
       "      <td>0</td>\n",
       "      <td>0</td>\n",
       "      <td>0</td>\n",
       "      <td>0</td>\n",
       "      <td>6000</td>\n",
       "      <td>0</td>\n",
       "      <td>141.0</td>\n",
       "      <td>360.0</td>\n",
       "      <td>1.0</td>\n",
       "      <td>2</td>\n",
       "      <td>1</td>\n",
       "      <td>4.948760</td>\n",
       "      <td>6000</td>\n",
       "      <td>8.699515</td>\n",
       "    </tr>\n",
       "  </tbody>\n",
       "</table>\n",
       "</div>"
      ],
      "text/plain": [
       "    Loan_ID  Gender  Married  Dependents  Education  Self_Employed  \\\n",
       "0  LP001002       1        0           0          0              0   \n",
       "1  LP001003       1        1           1          0              0   \n",
       "2  LP001005       1        1           0          0              1   \n",
       "3  LP001006       1        1           0          1              0   \n",
       "4  LP001008       1        0           0          0              0   \n",
       "\n",
       "   ApplicantIncome  CoapplicantIncome  LoanAmount  Loan_Amount_Term  \\\n",
       "0             5849                  0       130.0             360.0   \n",
       "1             4583               1508       128.0             360.0   \n",
       "2             3000                  0        66.0             360.0   \n",
       "3             2583               2358       120.0             360.0   \n",
       "4             6000                  0       141.0             360.0   \n",
       "\n",
       "   Credit_History  Property_Area  Loan_Status  LoanAmount_log  TotalIncome  \\\n",
       "0             1.0              2            1        4.867534         5849   \n",
       "1             1.0              0            0        4.852030         6091   \n",
       "2             1.0              2            1        4.189655         3000   \n",
       "3             1.0              2            1        4.787492         4941   \n",
       "4             1.0              2            1        4.948760         6000   \n",
       "\n",
       "   TotalIncome_log  \n",
       "0         8.674026  \n",
       "1         8.714568  \n",
       "2         8.006368  \n",
       "3         8.505323  \n",
       "4         8.699515  "
      ]
     },
     "execution_count": 38,
     "metadata": {},
     "output_type": "execute_result"
    }
   ],
   "source": [
    "data.head()"
   ]
  },
  {
   "cell_type": "code",
   "execution_count": 37,
   "metadata": {},
   "outputs": [
    {
     "name": "stdout",
     "output_type": "stream",
     "text": [
      "Acurácia : 100.000%\n",
      "Score da Validação Cruzada : 76.423%\n",
      "Score da Validação Cruzada : 74.797%\n",
      "Score da Validação Cruzada : 75.610%\n",
      "Score da Validação Cruzada : 76.423%\n",
      "Score da Validação Cruzada : 77.040%\n"
     ]
    }
   ],
   "source": [
    "model = RandomForestClassifier(n_estimators=100)\n",
    "predictor_var = ['Gender', 'Married', 'Dependents',\n",
    "'Education', 'Self_Employed', 'Loan_Amount_Term',\n",
    "'Credit_History', 'Property_Area',\n",
    "'LoanAmount_log','TotalIncome_log']\n",
    "classification_model(model, data, predictor_var,outcome_var)"
   ]
  },
  {
   "cell_type": "code",
   "execution_count": 39,
   "metadata": {},
   "outputs": [
    {
     "name": "stdout",
     "output_type": "stream",
     "text": [
      "Credit_History      0.272153\n",
      "TotalIncome_log     0.263348\n",
      "LoanAmount_log      0.227294\n",
      "Dependents          0.052410\n",
      "Property_Area       0.049762\n",
      "Loan_Amount_Term    0.043421\n",
      "Married             0.025875\n",
      "Education           0.023937\n",
      "Gender              0.021851\n",
      "Self_Employed       0.019948\n",
      "dtype: float64\n"
     ]
    }
   ],
   "source": [
    "#Criar uma série:\n",
    "featimp = pd.Series(model.feature_importances_,\n",
    "index=predictor_var).sort_values(ascending=False)\n",
    "print(featimp)"
   ]
  },
  {
   "cell_type": "code",
   "execution_count": 41,
   "metadata": {},
   "outputs": [
    {
     "name": "stdout",
     "output_type": "stream",
     "text": [
      "Acurácia : 82.899%\n",
      "Score da Validação Cruzada : 79.675%\n",
      "Score da Validação Cruzada : 78.049%\n",
      "Score da Validação Cruzada : 79.946%\n",
      "Score da Validação Cruzada : 80.894%\n",
      "Score da Validação Cruzada : 81.273%\n"
     ]
    }
   ],
   "source": [
    "model = RandomForestClassifier(n_estimators=25,\n",
    "min_samples_split=25, max_depth=7, max_features=1)\n",
    "predictor_var = ['TotalIncome_log','LoanAmount_log','Credit_History','Dependents','Property_Area']\n",
    "classification_model(model, data, predictor_var,outcome_var)"
   ]
  }
 ],
 "metadata": {
  "kernelspec": {
   "display_name": "Python 3.9.12 ('python-OMlwLWQw')",
   "language": "python",
   "name": "python3"
  },
  "language_info": {
   "codemirror_mode": {
    "name": "ipython",
    "version": 3
   },
   "file_extension": ".py",
   "mimetype": "text/x-python",
   "name": "python",
   "nbconvert_exporter": "python",
   "pygments_lexer": "ipython3",
   "version": "3.9.12"
  },
  "orig_nbformat": 4,
  "vscode": {
   "interpreter": {
    "hash": "dab5a459b2e21c39d5749d979d67689df803c78fb80ad30cb409b675124cddef"
   }
  }
 },
 "nbformat": 4,
 "nbformat_minor": 2
}
